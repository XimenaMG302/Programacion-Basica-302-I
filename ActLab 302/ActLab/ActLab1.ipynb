{
  "nbformat": 4,
  "nbformat_minor": 0,
  "metadata": {
    "colab": {
      "provenance": [],
      "authorship_tag": "ABX9TyOABE8abucOgmWVEN75R5TF",
      "include_colab_link": true
    },
    "kernelspec": {
      "name": "python3",
      "display_name": "Python 3"
    },
    "language_info": {
      "name": "python"
    }
  },
  "cells": [
    {
      "cell_type": "markdown",
      "metadata": {
        "id": "view-in-github",
        "colab_type": "text"
      },
      "source": [
        "<a href=\"https://colab.research.google.com/github/XimenaMG302/Programacion-Basica-302-I/blob/main/ActLab%20302/ActLab/ActLab1.ipynb\" target=\"_parent\"><img src=\"https://colab.research.google.com/assets/colab-badge.svg\" alt=\"Open In Colab\"/></a>"
      ]
    },
    {
      "cell_type": "code",
      "execution_count": null,
      "metadata": {
        "colab": {
          "base_uri": "https://localhost:8080/"
        },
        "id": "0ZyQL8FlliCt",
        "outputId": "b053c1e2-a4b2-49a9-8cdc-d1e336f9666d"
      },
      "outputs": [
        {
          "output_type": "stream",
          "name": "stdout",
          "text": [
            "Overwriting PB302_1.cpp\n"
          ]
        }
      ],
      "source": [
        "%%writefile PB302_1.cpp\n",
        "//Programa para imprimir mensaje de bienvenida\n",
        "//Creado por Mariel Ximena Moreno Gutierrez\n",
        "//Fecha: 15/sep/2025\n",
        "//PB302_1.cpp\n",
        "#include <iostream>\n",
        "using namespace std;\n",
        "int main()\n",
        "{\n",
        "  cout<<\"Bienvenidos a programacón básica en C++\\n\";\n",
        "  cout<<\"Gracias por Programar en clase\";\n",
        "  return 0;\n",
        "}"
      ]
    },
    {
      "cell_type": "code",
      "source": [
        "!g++ PB302_1.cpp -o PB302_1\n",
        "!./PB302_1"
      ],
      "metadata": {
        "colab": {
          "base_uri": "https://localhost:8080/"
        },
        "id": "mDDnqtP5pvTp",
        "outputId": "fd5b7d5e-a743-4f13-da40-03f0b3de9d48"
      },
      "execution_count": null,
      "outputs": [
        {
          "output_type": "stream",
          "name": "stdout",
          "text": [
            "Bienvenidos a programacón básica en C++\n",
            "Gracias por Programar en clase"
          ]
        }
      ]
    },
    {
      "cell_type": "markdown",
      "source": [
        "PB302_.cpp Programa para Bienvenida"
      ],
      "metadata": {
        "id": "j7floM_nmPFJ"
      }
    },
    {
      "cell_type": "markdown",
      "source": [
        "PB302_2.cpp Programa para imprimir datos personales"
      ],
      "metadata": {
        "id": "7RQW-tRKqztc"
      }
    },
    {
      "cell_type": "code",
      "source": [
        "%%writefile PB302_2.cpp\n",
        "//Programa para Mostrar datos personales\n",
        "//Creado por Mariel Ximena Moreno Gutierrez\n",
        "//Fecha:18/Septiembre/2025\n",
        "//PB302_2.cpp\n",
        "#include <iostream>\n",
        "using namespace std;\n",
        "int main ()\n",
        "{\n",
        "  char nombre [10]=\"Ximena \";\n",
        "  char paterno [15]=\"Moreno \";\n",
        "  char materno [11]=\"Gutierrez \";\n",
        "  int edad=16;\n",
        "  char dirección [50]=\"calle campesinos\";\n",
        "  char fechanac [11]=\"29/7/09\";\n",
        "  char ciudadnac [11]=\"Cd juárez\";\n",
        "  cout<<\"Nombre completo, es:\\n\";\n",
        "  cout<<nombre;\n",
        "  cout<<paterno;\n",
        "  cout<<materno<<\"\\n\";\n",
        "  cout<<\"Tu edad es:\\n\";\n",
        "  cout<<edad<<\"\\n\";\n",
        "  cout<<\"Tu dirección es:\\n\";\n",
        "  cout<<dirección<<\"\\n\";\n",
        "  cout<<\"Tu fecha de nacimiento es:\\n\";\n",
        "  cout<<fechanac<<\"\\n\";\n",
        "  cout<<\"Tu lugar de nacimiento es:\\n\";\n",
        "  cout<<ciudadnac<<\"\\n\";\n",
        "  return 0;\n",
        "}"
      ],
      "metadata": {
        "colab": {
          "base_uri": "https://localhost:8080/"
        },
        "id": "_kW110vfrSNc",
        "outputId": "91582712-8937-4ad3-a996-f73a0f8dc442"
      },
      "execution_count": 17,
      "outputs": [
        {
          "output_type": "stream",
          "name": "stdout",
          "text": [
            "Overwriting PB302_2.cpp\n"
          ]
        }
      ]
    },
    {
      "cell_type": "code",
      "source": [
        "!g++ PB302_2.cpp -o PB302_2.exe\n",
        "!./PB302_2.exe"
      ],
      "metadata": {
        "colab": {
          "base_uri": "https://localhost:8080/"
        },
        "id": "XiPqIpRewjje",
        "outputId": "bc866800-b633-42af-f31e-bd726a2ae264"
      },
      "execution_count": 18,
      "outputs": [
        {
          "output_type": "stream",
          "name": "stdout",
          "text": [
            "Nombre completo, es:\n",
            "Ximena Moreno Gutierrez \n",
            "Tu edad es:\n",
            "16\n",
            "Tu dirección es:\n",
            "calle campesinos\n",
            "Tu fecha de nacimiento es:\n",
            "29/7/09\n",
            "Tu lugar de nacimiento es:\n",
            "Cd juárez\n"
          ]
        }
      ]
    },
    {
      "cell_type": "markdown",
      "source": [],
      "metadata": {
        "id": "ksQ331WFrLS7"
      }
    },
    {
      "cell_type": "markdown",
      "source": [
        "Actividad de laboratorio 1 Impresión de mensajes"
      ],
      "metadata": {
        "id": "B-c01Uyixi4B"
      }
    }
  ]
}